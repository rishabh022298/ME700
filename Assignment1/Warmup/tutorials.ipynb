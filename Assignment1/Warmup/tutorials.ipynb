{
 "cells": [
  {
   "cell_type": "markdown",
   "metadata": {},
   "source": [
    "# Tutorial\n",
    "This notebook contains 5 tutorial examples to demonstrate the functioning of \"bisection method\". Please ensure that *numpy* package is installed before running the code blocks. It is recommended to go through the file README.md first before going through the tutorial."
   ]
  },
  {
   "cell_type": "markdown",
   "metadata": {},
   "source": [
    "## Directions to use\n",
    "Please run code blocks one by one as they appear to ensure the proper functionality of this notebook. At the very least, please run the first code block that imports the *bisection_method* file and *numpy* package before running the subsequent tutorial example code blocks."
   ]
  },
  {
   "cell_type": "code",
   "execution_count": 18,
   "metadata": {},
   "outputs": [],
   "source": [
    "'''\n",
    "This code block imports the bisection method function and the numpy package which will be required \n",
    "for the functioning of tutorial examples.\n",
    "'''\n",
    "from bisection_method import *\n",
    "import numpy as np"
   ]
  },
  {
   "cell_type": "markdown",
   "metadata": {},
   "source": [
    "### Calling the bisection method function\n",
    "User can call bisection method function as:\\\n",
    "&emsp;&emsp;&emsp;&emsp;**bisection(f, a, b, tol, max_iter)**\\\n",
    "It takes 5 different parameters as input. They are:\\\n",
    "&emsp;f: function (expression) of a variable. User might be seeking the solution to this expression.\\\n",
    "&emsp;a: the lower limit (float) of the interval within which solution is needed.\\\n",
    "&emsp;b: the upper limit (float) of the interval within which solution is needed.\\\n",
    "&emsp;tol: acceptable tolerance (float) for the solution.\\\n",
    "&emsp;max_iter: maximum number of iterations (positive integer) user wants to allow before changing the parameters for convergence."
   ]
  },
  {
   "cell_type": "markdown",
   "metadata": {},
   "source": [
    "## Example 1\n",
    "### Root of $f(x) = \\sin{x}$ in the interval $[\\pi/2$, $3\\pi/2]$\n",
    "This example demonstrate the functioning of the bisection method function by seeking a solution of $\\sin{x} = 0$ in $[\\pi/2, 3\\pi/2]$. It is known that the solution should be close to $x = \\pi$. This should be close to $x = 3.14$.\\\n",
    "&emsp;Please run the following code block to verify."
   ]
  },
  {
   "cell_type": "code",
   "execution_count": 9,
   "metadata": {},
   "outputs": [
    {
     "name": "stdout",
     "output_type": "stream",
     "text": [
      "The solution to the given expression is 3.141592653589793\n"
     ]
    }
   ],
   "source": [
    "'''\n",
    "This code block demonstrates the functionality of bisection method function by seeking a solution to f(x) = sin(x) \n",
    "in the interval [1.5708, 4.7124].\n",
    "'''\n",
    "f = lambda x: np.sin(x)\n",
    "root = bisection(f, np.pi/2, 3*np.pi/2, tol = 1e-6, max_iter = 100)\n",
    "print(\"The solution to the given expression is\",root)"
   ]
  },
  {
   "cell_type": "markdown",
   "metadata": {},
   "source": [
    "## Example 2\n",
    "### Fixed point of a first order ordinary differential equation\n",
    "Fixed point of a differential equation refers to a specific value of the dependent variable where derivative is zero. For example, the fixed point of $\\frac{\\mathrm{d}x}{\\mathrm{d}t} = \\sin{x(t)}$ for $x \\in [\\pi/2, 3\\pi/2]$ will be at $x = \\pi$ as $\\sin{x} = 0$ at $x = \\pi$ in the given interval. The importance and properties of fixed points will be explained in a subsequent example.\\\n",
    "Let's try to find the fixed point of:\n",
    "$$\\frac{\\mathrm{d}y}{\\mathrm{d}t} - y^2 + 25y = 100$$\n",
    "in the interval $[10,100]$. This can be achieved by rearranging the expression as $\\dot{y} = y^2 - 25y +100$, where $\\dot{y} = \\mathrm{d}y/\\mathrm{d}t$. Now we take the R.H.S. $g(y) = y^2 - 25y + 100$. Now we can use the bisection method to seek a solution for $g(y) = 0$ for $y \\in [10, 100]$."
   ]
  },
  {
   "cell_type": "code",
   "execution_count": 12,
   "metadata": {},
   "outputs": [
    {
     "name": "stdout",
     "output_type": "stream",
     "text": [
      "The fixed point in the given interval for the given first order ODE is 19.99999973922968\n"
     ]
    }
   ],
   "source": [
    "'''\n",
    "This code block seeks the solution of y**2 - 25*y + 100 = 0 in [10,100] using bisection method.\n",
    "'''\n",
    "g = lambda y: y**2 - 25*y + 100\n",
    "fixed_point = bisection(g, 10, 100, tol = 1e-6, max_iter = 100)\n",
    "print(\"The fixed point in the given interval for the given first order ODE is\",fixed_point)"
   ]
  },
  {
   "cell_type": "markdown",
   "metadata": {},
   "source": [
    "## Example 3\n",
    "### Population dynamics\n",
    "The prediction of population growth over time of any species is a very complex task as it depends upon numerous factors like availability of resources, existence of predators, climate, unknown weather phenomenons, etc. A good amount of research has been done to develop the models for understanding the population dynamics of different species. One of most popular equation associated with population growth is ***logistic eqution***. It looks like:\n",
    "$$\\frac{\\mathrm{d}N}{\\mathrm{d}t} = rN\\left(1-\\frac{N}{K}\\right)$$\n",
    "where, $N$ is the population, $r$ is the intrinsic growth rate and $K$ is the carrying capacity of the environment. Here $\\frac{\\mathrm{d}N}{\\mathrm{d}t} = \\dot{N}$ represent the rate of change of population with time. Now, it is extremely difficult to find the solution $N(t)$ of the above equation. But we can at least predict what the population will be when it reaches the equilibrium. This can be done by finding the fixed point of the given differential equation.\\\n",
    "Let's take an arbitrary example where $r = 1$ and $K = 1,000,000$. Clearly, population cannot be negative and a quick inspection of the R.H.S. will tell us that $N = 0$ is a fixed point. But we are seeking a non trivial solution. So, let's take the interval $[1,10000000]$ for finding the population at an equilibrium point.\\\n",
    "&emsp;Let's use bisection method to calculate it. "
   ]
  },
  {
   "cell_type": "code",
   "execution_count": 25,
   "metadata": {},
   "outputs": [
    {
     "name": "stdout",
     "output_type": "stream",
     "text": [
      "The equilibrium population for the given parameters will be 1000000\n"
     ]
    }
   ],
   "source": [
    "'''\n",
    "This code block calculates the equilibrium population using logistic equation with the help of bisection method.\n",
    "'''\n",
    "r = 1                               # intrinsic growth rate\n",
    "K = 1000000                         # carrying capacity\n",
    "N_dot = lambda N: r*N*(1 - (N/K))   # logistic equation\n",
    "equilibrium_population = round(bisection(N_dot, 1, 10000000, tol = 1e-6, max_iter = 100))   # rounded off to the nearest integer as population cannot be in decimals.\n",
    "print(\"The equilibrium population for the given parameters will be\",equilibrium_population)"
   ]
  },
  {
   "cell_type": "markdown",
   "metadata": {},
   "source": [
    "## Example 4\n",
    "### (Mechanics) Measuring fluid velocity in a pipe using a pitot tube\n",
    "Pitot tube is a device used to measure the velocity of an icompressible fluid in a pipe or confined system. It uses Bernoulli's principle to calculate the velocity by equating stagnation pressure to the sum of static pressure and dynamic pressure.\n",
    "$$p_t = p_s + \\frac{\\rho u^2}{2}$$\n",
    "where, $p_t$ is the stagnation pressure, $p_s$ is the static pressure and $u$ is the velocity. Please refer to README.md for extended description.\\\n",
    "Let's take an hypothetical example in which water ($\\rho = 1,000\\ \\mathrm{kg/m}^3$) and let's say $p_t = 100,000\\ \\mathrm{N/m}^2$ and $p_s = 50,000\\ \\mathrm{N/m}^2$. Let's calculate the fluid velocity using bisection method. The fluid velocity cannot be negative so we can take the lower limit to be $0$ and we can take theb upper limit which is sufficiently large (let's say $100\\ \\mathrm{m/s}$)."
   ]
  },
  {
   "cell_type": "code",
   "execution_count": 24,
   "metadata": {},
   "outputs": [
    {
     "name": "stdout",
     "output_type": "stream",
     "text": [
      "The velocity of water in a pipe for given parameters is 9.999999776482582 m/s.\n"
     ]
    }
   ],
   "source": [
    "'''\n",
    "This code block calculates the velocity of water in a pipe using the principle of pitot tube.\n",
    "'''\n",
    "p_t = 100000        # stagnation pressure\n",
    "p_s = 50000         # static pressure\n",
    "rho = 1000          # density of water\n",
    "pressure_balance = lambda u: p_s - p_t + (rho*(u**2))/2\n",
    "vel = bisection(pressure_balance, 0, 100, tol = 1e-6, max_iter = 100)\n",
    "print(\"The velocity of water in a pipe for given parameters is\",vel,\"m/s.\")"
   ]
  },
  {
   "cell_type": "markdown",
   "metadata": {},
   "source": [
    "## Example 5\n",
    "### (Mechanics) "
   ]
  }
 ],
 "metadata": {
  "kernelspec": {
   "display_name": "base",
   "language": "python",
   "name": "python3"
  },
  "language_info": {
   "codemirror_mode": {
    "name": "ipython",
    "version": 3
   },
   "file_extension": ".py",
   "mimetype": "text/x-python",
   "name": "python",
   "nbconvert_exporter": "python",
   "pygments_lexer": "ipython3",
   "version": "3.12.4"
  }
 },
 "nbformat": 4,
 "nbformat_minor": 2
}
